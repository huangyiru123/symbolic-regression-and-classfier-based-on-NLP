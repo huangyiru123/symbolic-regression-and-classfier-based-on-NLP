{
 "cells": [
  {
   "cell_type": "code",
   "execution_count": 4,
   "id": "615f7b56-3a61-4b77-b6ee-d6fa82a65f6f",
   "metadata": {},
   "outputs": [
    {
     "name": "stdout",
     "output_type": "stream",
     "text": [
      "['C_stable_similarity', 'D_stable_similarity', 'E_stable__similarity', 'average_stable_similarity(C、D、E三个溶剂的平均值)', 'C_mix_similarity', 'D_mix_similarity', 'E_mix_similarity', 'C_MinAbsPartialCharge', 'C_MinEStateIndex', 'D_FpDensityMorgan1', 'D_Kappa3', 'D_MaxAbsPartialCharge', 'D_MinAbsPartialCharge', 'D_MinPartialCharge', 'D_MolLogP', 'D_qed', 'E_BalabanJ', 'E_MinAbsEStateIndex', 'E_MinPartialCharge', 'E_qed']\n"
     ]
    }
   ],
   "source": [
    "import pandas as pd\n",
    "df = pd.read_csv('跑数据集用的.csv')\n",
    "print(df.columns.tolist())"
   ]
  },
  {
   "cell_type": "code",
   "execution_count": 5,
   "id": "97b4fcc3-b767-4c59-93a5-bc939f0cd3b0",
   "metadata": {},
   "outputs": [],
   "source": [
    "# 删除重复值\n",
    "df.drop_duplicates(inplace=True)\n",
    "\n",
    "# 输出到文件\n",
    "df.to_csv('output.csv', index=False)"
   ]
  },
  {
   "cell_type": "code",
   "execution_count": 6,
   "id": "fa9e561b-b0bf-4e18-84f5-8fccef6211d5",
   "metadata": {},
   "outputs": [],
   "source": [
    "#\n",
    "import pandas as pd\n",
    "import numpy as np\n",
    "import random\n",
    "# 读取csv文件\n",
    "df = pd.read_csv('output.csv')\n",
    "\n",
    "\n",
    "# In[11]:\n",
    "\n",
    "\n",
    "a_array = np.array(df[['C_MinAbsPartialCharge', 'C_MinEStateIndex','C_stable_similarity','average_stable_similarity(C、D、E三个溶剂的平均值)', 'C_mix_similarity']])\n",
    "b_array = np.array(df[['D_FpDensityMorgan1', 'D_Kappa3', 'D_MaxAbsPartialCharge', 'D_MinAbsPartialCharge', 'D_MinPartialCharge', 'D_MolLogP', 'D_qed','D_stable_similarity','D_mix_similarity']])\n",
    "c_array = np.array(df[['E_BalabanJ', 'E_MinAbsEStateIndex', 'E_MinPartialCharge', 'E_qed','E_stable__similarity', 'E_mix_similarity']])\n",
    "# d_array = np.array(df[['ratio_A', 'ratio_B', 'ration_C', 'ratio_D']])\n",
    "newArray = list()\n",
    "for i in range(len(a_array)):\n",
    "    newArray.append(a_array[i])\n",
    "for i in range(len(b_array)):\n",
    "    newArray.append(b_array[i])\n",
    "for i in range(len(c_array)):\n",
    "    newArray.append(c_array[i])\n",
    "# for l in range(len(d_array)):\n",
    "#     newArray.append(d_array[i])\n",
    "newArray\n",
    "\n",
    "\n",
    "# In[34]:\n",
    "\n",
    "\n",
    "result = list()\n",
    "for i in range(len(a_array)):\n",
    "    for j in range(len(a_array),len(a_array)+len(b_array)):\n",
    "        for k in range(len(a_array)+len(b_array),len(a_array)+len(b_array)+len(c_array)):\n",
    "            # for l in range(len(a_array)+len(b_array)+len(c_array),len(a_array)+len(b_array)+len(c_array)+len(d_array)):\n",
    "            res = np.concatenate((newArray[i],newArray[j],newArray[k]))\n",
    "            result.append(res)\n",
    "result\n",
    "\n",
    "\n",
    "# In[43]:\n",
    "\n",
    "\n",
    "#颠倒一下输出\n",
    "newResult = np.transpose(result)\n",
    "data = {\n",
    "    'C_MinAbsPartialCharge': newResult[0],\n",
    "     'C_MinEStateIndex': newResult[1],\n",
    "     'C_stable_similarity': newResult[2],\n",
    "   'average_stable_similarity(C、D、E三个溶剂的平均值)': newResult[3],\n",
    "    'C_mix_similarity': newResult[4],\n",
    "    'D_FpDensityMorgan1': newResult[5],\n",
    "    'D_Kappa3': newResult[6],\n",
    "    'D_MaxAbsPartialCharge' : newResult[7],\n",
    "    'D_MinAbsPartialCharge': newResult[8],\n",
    "    'D_MinPartialCharge': newResult[9],\n",
    "    'D_MolLogP': newResult[10],\n",
    "    'D_qed': newResult[11],\n",
    "    'D_stable_similarity': newResult[12],\n",
    "    'D_mix_similarity': newResult[13],   \n",
    "    'E_BalabanJ': newResult[14], \n",
    "    'E_MinAbsEStateIndex': newResult[15], \n",
    "    'E_MinPartialCharge': newResult[16],  \n",
    "    'E_qed': newResult[17],\n",
    "    'E_stable__similarity': newResult[18],\n",
    "    'E_mix_similarity': newResult[19]\n",
    "   \n",
    "   \n",
    "  \n",
    "    \n",
    "    \n",
    "}\n",
    "df_result1 = pd.DataFrame(data)\n",
    "\n",
    "\n",
    "# In[45]:\n",
    "\n",
    "\n",
    "df_result1.to_csv('result_csv_file.csv', index=False)\n",
    "\n",
    "\n",
    "\n",
    "# In[ ]:"
   ]
  },
  {
   "cell_type": "code",
   "execution_count": 9,
   "id": "0f7409c7-3f20-4606-92d9-ef7317580f28",
   "metadata": {},
   "outputs": [],
   "source": [
    "import pandas as pd\n",
    "# 读取数据集，假设数据集保存为csv文件\n",
    "data = pd.read_csv('result_csv_file.csv')\n",
    "\n",
    "# 删除完全一样的重复行\n",
    "data = data.drop_duplicates()\n",
    "\n",
    "data.to_csv('无重复值.csv', index=False)\n",
    "\n"
   ]
  },
  {
   "cell_type": "code",
   "execution_count": null,
   "id": "d9e8d1a1-a29b-449b-8d44-595216aafeb9",
   "metadata": {},
   "outputs": [],
   "source": []
  }
 ],
 "metadata": {
  "kernelspec": {
   "display_name": "NJmatML",
   "language": "python",
   "name": "njmatml"
  },
  "language_info": {
   "codemirror_mode": {
    "name": "ipython",
    "version": 3
   },
   "file_extension": ".py",
   "mimetype": "text/x-python",
   "name": "python",
   "nbconvert_exporter": "python",
   "pygments_lexer": "ipython3",
   "version": "3.9.12"
  }
 },
 "nbformat": 4,
 "nbformat_minor": 5
}
