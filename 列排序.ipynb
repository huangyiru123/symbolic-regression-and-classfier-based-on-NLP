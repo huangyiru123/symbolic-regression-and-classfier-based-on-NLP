{
 "cells": [
  {
   "cell_type": "code",
   "execution_count": 8,
   "id": "4f1e35af-66af-4d09-85c8-ba768be2ed40",
   "metadata": {},
   "outputs": [],
   "source": [
    "import pandas as pd"
   ]
  },
  {
   "cell_type": "code",
   "execution_count": 9,
   "id": "418de79c-83ba-4f83-ad42-a4cd0bd3a143",
   "metadata": {},
   "outputs": [],
   "source": [
    "df = pd.read_csv('预测集.csv')"
   ]
  },
  {
   "cell_type": "code",
   "execution_count": 10,
   "id": "cb7d800b-f24f-4629-b5ee-1af43f229042",
   "metadata": {},
   "outputs": [],
   "source": [
    "data=df[['ratio_A', 'ratio_B', 'ration_C', 'ratio_D', 'C_stable_similarity', 'D_stable_similarity', 'E_stable__similarity', 'average_stable_similarity(C、D、E三个溶剂的平均值)', 'C_mix_similarity', 'D_mix_similarity', 'E_mix_similarity', 'C_MinAbsPartialCharge', 'C_MinEStateIndex', 'D_FpDensityMorgan1', 'D_Kappa3', 'D_MaxAbsPartialCharge', 'D_MinAbsPartialCharge', 'D_MinPartialCharge', 'D_MolLogP', 'D_qed', 'E_BalabanJ', 'E_MinAbsEStateIndex', 'E_MinPartialCharge', 'E_qed', 'Time', 'stability']]"
   ]
  },
  {
   "cell_type": "code",
   "execution_count": 11,
   "id": "16102135-7b26-4737-b003-5e5383bf3908",
   "metadata": {},
   "outputs": [],
   "source": [
    "data.to_csv('正式预测集.csv', index=False)"
   ]
  }
 ],
 "metadata": {
  "kernelspec": {
   "display_name": "NJmatML",
   "language": "python",
   "name": "njmatml"
  },
  "language_info": {
   "codemirror_mode": {
    "name": "ipython",
    "version": 3
   },
   "file_extension": ".py",
   "mimetype": "text/x-python",
   "name": "python",
   "nbconvert_exporter": "python",
   "pygments_lexer": "ipython3",
   "version": "3.9.12"
  }
 },
 "nbformat": 4,
 "nbformat_minor": 5
}
